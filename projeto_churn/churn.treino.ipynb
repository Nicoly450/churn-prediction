{
 "cells": [
  {
   "cell_type": "code",
   "execution_count": null,
   "id": "b8035942",
   "metadata": {},
   "outputs": [],
   "source": [
    "#Importa bibliotecas principais para manipulação de dados e ML\n",
    "import numpy as np\n",
    "import pandas as pd\n",
    "\n",
    "from sklearn.model_selection import (\n",
    "    train_test_split, StratifiedKFold, cross_validate, GridSearchCV\n",
    ")\n",
    "from sklearn.ensemble import RandomForestClassifier\n",
    "from sklearn.metrics import (\n",
    "    accuracy_score, classification_report, confusion_matrix, roc_auc_score\n",
    ")\n"
   ]
  },
  {
   "cell_type": "code",
   "execution_count": null,
   "id": "44f1c5e6",
   "metadata": {},
   "outputs": [
    {
     "name": "stdout",
     "output_type": "stream",
     "text": [
      "   ClienteID  Idade  MesesComoCliente    Plano  QtdCompras  Satisfacao  Churn\n",
      "0          1     39                14  Premium           9           5      1\n",
      "1          2     55                38   Padrão          43           4      0\n",
      "2          3     64                59   Padrão          34           4      0\n",
      "3          4     56                49   Padrão          29           1      0\n",
      "4          5     52                 7   Básico          29           4      1\n"
     ]
    }
   ],
   "source": [
    "# Carrega a base de clientes (com histórico de cancelamento)\n",
    "df = pd.read_csv(\"clientes_churn.csv\")\n",
    "print(df.head())\n"
   ]
  },
  {
   "cell_type": "code",
   "execution_count": null,
   "id": "c3a45415",
   "metadata": {},
   "outputs": [],
   "source": [
    "# Converte a coluna 'Plano' em variáveis dummies (one-hot encoding)\n",
    "df = pd.get_dummies(df, columns=['Plano'], drop_first=True)\n"
   ]
  },
  {
   "cell_type": "code",
   "execution_count": 14,
   "id": "fe86fb29",
   "metadata": {},
   "outputs": [],
   "source": [
    "X = df.drop(columns=['ClienteID','Churn'])  \n",
    "y = df['Churn']\n"
   ]
  },
  {
   "cell_type": "code",
   "execution_count": null,
   "id": "1dca9458",
   "metadata": {},
   "outputs": [],
   "source": [
    "# Separa em treino e teste (80/20) e aplica estratificação no target\n",
    "X_train, X_test, y_train, y_test = train_test_split(X, y, test_size=0.2, random_state=42, stratify=y)\n"
   ]
  },
  {
   "cell_type": "code",
   "execution_count": null,
   "id": "ade5e489",
   "metadata": {},
   "outputs": [
    {
     "data": {
      "text/plain": [
       "['modelo_churn.pkl']"
      ]
     },
     "execution_count": 16,
     "metadata": {},
     "output_type": "execute_result"
    }
   ],
   "source": [
    "from sklearn.model_selection import GridSearchCV, StratifiedKFold\n",
    "from sklearn.metrics import make_scorer, recall_score, f1_score, roc_auc_score\n",
    "\n",
    "from sklearn.ensemble import RandomForestClassifier\n",
    "\n",
    "# Cria modelo de Random Forest com hiperparâmetros ajustados\n",
    "modelo = RandomForestClassifier(\n",
    "    n_estimators=400,\n",
    "    max_depth=6,\n",
    "    min_samples_split=10,\n",
    "    min_samples_leaf=3,\n",
    "    max_features='log2',\n",
    "    class_weight='balanced',\n",
    "    random_state=42\n",
    ")\n",
    "\n",
    "# Treina e salva o modelo\n",
    "modelo.fit(X_train, y_train)\n",
    "\n",
    "import joblib\n",
    "joblib.dump(modelo, 'modelo_churn.pkl')"
   ]
  },
  {
   "cell_type": "code",
   "execution_count": null,
   "id": "b9c75e80",
   "metadata": {},
   "outputs": [
    {
     "name": "stdout",
     "output_type": "stream",
     "text": [
      "=== Threshold padrão (0.5) ===\n",
      "Acurácia: 0.575\n",
      "              precision    recall  f1-score   support\n",
      "\n",
      "           0       0.67      0.64      0.65        25\n",
      "           1       0.44      0.47      0.45        15\n",
      "\n",
      "    accuracy                           0.57        40\n",
      "   macro avg       0.55      0.55      0.55        40\n",
      "weighted avg       0.58      0.57      0.58        40\n",
      "\n",
      "=== Threshold customizado (0.4) ===\n",
      "Acurácia: 0.55\n",
      "              precision    recall  f1-score   support\n",
      "\n",
      "           0       0.82      0.36      0.50        25\n",
      "           1       0.45      0.87      0.59        15\n",
      "\n",
      "    accuracy                           0.55        40\n",
      "   macro avg       0.63      0.61      0.55        40\n",
      "weighted avg       0.68      0.55      0.53        40\n",
      "\n",
      "   Threshold  Precision (classe 1)  Recall (classe 1)  F1-score (classe 1)\n",
      "0        0.3              0.361111           0.866667             0.509804\n",
      "1        0.4              0.448276           0.866667             0.590909\n",
      "2        0.5              0.437500           0.466667             0.451613\n",
      "3        0.6              0.500000           0.266667             0.347826\n"
     ]
    }
   ],
   "source": [
    "y_pred = modelo.predict(X_test)\n",
    "y_prob = modelo.predict_proba(X_test)[:, 1]\n",
    "y_pred_custom = (y_prob >= 0.4).astype(int)\n",
    "\n",
    "print(\"=== Threshold padrão (0.5) ===\")\n",
    "print(\"Acurácia:\", accuracy_score(y_test, y_pred))\n",
    "print(classification_report(y_test, y_pred))\n",
    "\n",
    "print(\"=== Threshold customizado (0.4) ===\")\n",
    "print(\"Acurácia:\", accuracy_score(y_test, y_pred_custom))\n",
    "print(classification_report(y_test, y_pred_custom))\n",
    "\n",
    "# Testar vários thresholds de uma vez\n",
    "from sklearn.metrics import classification_report\n",
    "\n",
    "# Testa modelo em diferentes thresholds (0.3, 0.4, 0.5, 0.6)\n",
    "# para ver o impacto em precisão, recall e F1-score\n",
    "thresholds = [0.3, 0.4, 0.5, 0.6]\n",
    "\n",
    "# lista pra guardar os resultados\n",
    "results = []\n",
    "\n",
    "for t in thresholds:\n",
    "    y_pred_custom = (y_prob >= t).astype(int)\n",
    "    \n",
    "    # pega o relatório como dicionário\n",
    "    report = classification_report(y_test, y_pred_custom, output_dict=True)\n",
    "    \n",
    "    # pega só a classe 1 (os canceladores)\n",
    "    precision = report[\"1\"][\"precision\"]\n",
    "    recall    = report[\"1\"][\"recall\"]\n",
    "    f1        = report[\"1\"][\"f1-score\"]\n",
    "    \n",
    "    results.append({\n",
    "        \"Threshold\": t,\n",
    "        \"Precision (classe 1)\": precision,\n",
    "        \"Recall (classe 1)\": recall,\n",
    "        \"F1-score (classe 1)\": f1\n",
    "    })\n",
    "df_results = pd.DataFrame(results)\n",
    "print(df_results)\n",
    "\n",
    "# Testa modelo em diferentes thresholds (0.3, 0.4, 0.5, 0.6)\n",
    "# para ver o impacto em precisão, recall e F1-score"
   ]
  },
  {
   "cell_type": "code",
   "execution_count": 23,
   "id": "5850626e",
   "metadata": {},
   "outputs": [
    {
     "data": {
      "image/png": "[encoded data removed]",
      "text/plain": [
       "<Figure size 640x480 with 1 Axes>"
      ]
     },
     "metadata": {},
     "output_type": "display_data"
    }
   ],
   "source": [
    "import matplotlib.pyplot as plt\n",
    "plt.style.use('dark_background')\n",
    "\n",
    "importances = modelo.feature_importances_\n",
    "features = X.columns\n",
    "\n",
    "plt.barh(features, importances, color=\"#eb9718\")\n",
    "plt.xlabel(\"Importância\")\n",
    "plt.ylabel(\"Feature\")\n",
    "plt.title(\"Importância das Variáveis no Cancelamento\")\n",
    "plt.show()\n"
   ]
  }
 ],
 "metadata": {
  "kernelspec": {
   "display_name": "Python 3",
   "language": "python",
   "name": "python3"
  },
  "language_info": {
   "codemirror_mode": {
    "name": "ipython",
    "version": 3
   },
   "file_extension": ".py",
   "mimetype": "text/x-python",
   "name": "python",
   "nbconvert_exporter": "python",
   "pygments_lexer": "ipython3",
   "version": "3.13.3"
  }
 },
 "nbformat": 4,
 "nbformat_minor": 5
}
